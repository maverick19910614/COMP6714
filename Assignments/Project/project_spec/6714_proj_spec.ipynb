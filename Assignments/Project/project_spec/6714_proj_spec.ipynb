{
 "cells": [
  {
   "cell_type": "markdown",
   "metadata": {},
   "source": [
    "## Deadline + Late Penalty\n",
    "\n",
    "$\\textbf{Note:}$ It will take you quite some time to complete this project, therefore, we earnestly recommend that you start working as early as possible. You should read the specs carefully at least 2-3 times before you start coding.\n",
    "\n",
    "**Submission deadline for the Project is 20:59:59 (08:59:59 PM) on 25th Nov, 2020**<br>\n",
    "**LATE PENALTY: -10% on day-1, -20% on day-2 and -70% on day-3 (i.e., 0 mark after 3 days late)**"
   ]
  },
  {
   "cell_type": "markdown",
   "metadata": {},
   "source": [
    "## Updates\n",
    "\n",
    "**Important Update on 2020-10-29**: \n",
    "\n",
    "1. Due to precision problem in float numbers (see the example below), we will modify *our* inverted index implementation such that the normalized tf-idf weights, $w_{t,d}$, are integers. \n",
    "\n",
    "   Note that this does not require **any** change in your implementation of the WAND algorithm."
   ]
  },
  {
   "cell_type": "code",
   "execution_count": 1,
   "metadata": {},
   "outputs": [],
   "source": [
    "0.3333 + 0.6667 + 0.6667"
   ]
  },
  {
   "cell_type": "code",
   "execution_count": 2,
   "metadata": {},
   "outputs": [
    {
     "data": {
      "text/plain": [
       "1.6666999999999998"
      ]
     },
     "execution_count": 2,
     "metadata": {},
     "output_type": "execute_result"
    }
   ],
   "source": [
    "0.6667 + 0.6667 + 0.3333"
   ]
  },
  {
   "cell_type": "code",
   "execution_count": 3,
   "metadata": {
    "execution": {
     "iopub.execute_input": "2020-10-29T01:55:08.289Z",
     "iopub.status.busy": "2020-10-29T01:55:08.278Z",
     "iopub.status.idle": "2020-10-29T01:55:08.310Z",
     "shell.execute_reply": "2020-10-29T01:55:08.323Z"
    },
    "jupyter": {
     "outputs_hidden": false,
     "source_hidden": false
    },
    "nteract": {
     "transient": {
      "deleting": false
     }
    }
   },
   "outputs": [
    {
     "data": {
      "text/plain": [
       "False"
      ]
     },
     "execution_count": 3,
     "metadata": {},
     "output_type": "execute_result"
    }
   ],
   "source": [
    "(0.3333 + 0.6667 + 0.6667) == (0.6667 + 0.6667 + 0.3333)"
   ]
  },
  {
   "cell_type": "markdown",
   "metadata": {},
   "source": [
    "2. Clarification on ties. \n",
    "\n",
    "   When two documents have the same score, we break the tie by retaining the document with the smaller document ID. "
   ]
  },
  {
   "cell_type": "markdown",
   "metadata": {},
   "source": [
    "# Project Specification\n",
    "\n",
    "## Instructions\n",
    "1. This note book contains instructions for $\\textbf{COMP6714-Project}$. \n",
    "\n",
    "* You are required to complete your implementation for part-1 in a file `project_part1.py` provided along with this notebook. Please $\\textbf{DO NOT ALTER}$ the name of the file.\n",
    "\n",
    "* You are required to complete a report for part-2 in a file `project_part2.pdf`.\n",
    "\n",
    "* You are not allowed to print out unnecessary stuff. We will not consider any output printed out on the screen. All results should be returned in appropriate data structures via corresponding functions.\n",
    "\n",
    "* You can submit your implementation for **Project (Part-1)**  and a report for **Project (Part-2)** via submission system: http://kg.cse.unsw.edu.au/submit/ . We have already sent out the invitations for you to join the submission system. In case of problems please post your request @ Piazza.\n",
    "\n",
    "* For each question, we have provided you with detailed instructions along with question headings. In case of problems, you can post your query @ Piazza.\n",
    "\n",
    "* You are allowed to add other functions and/or import modules (you may have to for this project), but you are not allowed to define global variables. **Only functions are allowed** in `project_part1.py`\n",
    "\n",
    "* You should not import unnecessary and non-standard modules/libraries. Loading such libraries at test time will lead to errors and hence 0 mark for your project. If you are not sure, please ask @ Piazza. \n",
    "\n",
    "* We will provide immediate feedback on your submission. You can access your scores using the online submission portal on the same day. \n",
    "\n",
    "* For the **Final Evaluation**, we will be using a different dataset, so your final scores may vary.  \n",
    "\n",
    "* You are allowed to have a limited number of Feedback Attempts $\\textbf{(15 Attempts for each student)}$, we will use your **LAST** submission for Final Evaluation.\n",
    "\n",
    "### Allowed Libraries:\n",
    "\n",
    "You are required to write your implementation for the project (part-1) using `Python 3.6.5`. You are allowed to use any python `standard libraries`(https://docs.python.org/3.6/library/)."
   ]
  },
  {
   "cell_type": "markdown",
   "metadata": {},
   "source": [
    "# Part One (80 Points)"
   ]
  },
  {
   "cell_type": "markdown",
   "metadata": {},
   "source": [
    "### Introduction\n",
    "\n",
    "In this project, you are required to implement WAND algorithm. We use the variant version in 2013 ADCS paper [Exploring the Magic of WAND] Algorithm 1 WAND processing. We will provide a inverted indexing model which in `Inv_Index.py` **Please do not change this file**.\n",
    "\n",
    "### Inputs:\n",
    "Input to InvertedIndex model is as follow:\n",
    "1. Documents ($D$) as a dictionary with $key:$ doc_id; $value:$ document text\n",
    "\n",
    "During query, your WAND algorithm are received as follows:\n",
    "1. **query_terms** as a list with $term:$ a string list\n",
    "* **top_k** as a Integer $:top\\_k \\ge 1$, the number of documents you need to return\n",
    "* **inverted_index** as a dictionary with $key:$ term; $value:$ posting list, each element in posting list is a tuple $(doc\\_id, w_{t,d})$\n"
   ]
  },
  {
   "cell_type": "markdown",
   "metadata": {},
   "source": [
    "### Toy Example for Illustration \n",
    "\n",
    "Here, we provide a small toy example for illustration of Inverted Index: <br>\n",
    "Let the dictionary of documents ($D$) be:"
   ]
  },
  {
   "cell_type": "code",
   "execution_count": 1,
   "metadata": {},
   "outputs": [],
   "source": [
    "documents = {1:'President Trump was on his way to new New York in New York City.',\n",
    "             2:'New York Times mentioned an interesting story about Trump.',\n",
    "             3:'I think it would be great if I can travel to New York this summer to see Trump.'}"
   ]
  },
  {
   "cell_type": "code",
   "execution_count": 2,
   "metadata": {},
   "outputs": [
    {
     "name": "stdout",
     "output_type": "stream",
     "text": [
      "defaultdict(<class 'list'>, {'President': [(1, 1)], 'Trump': [(1, 1)], 'was': [(1, 1)], 'on': [(1, 1)], 'his': [(1, 1)], 'way': [(1, 1)], 'to': [(1, 1), (3, 2)], 'new': [(1, 1)], 'New': [(1, 2), (2, 1), (3, 1)], 'York': [(1, 2), (2, 1), (3, 1)], 'in': [(1, 1)], 'City.': [(1, 1)], 'Times': [(2, 1)], 'mentioned': [(2, 1)], 'an': [(2, 1)], 'interesting': [(2, 1)], 'story': [(2, 1)], 'about': [(2, 1)], 'Trump.': [(2, 1), (3, 1)], 'I': [(3, 2)], 'think': [(3, 1)], 'it': [(3, 1)], 'would': [(3, 1)], 'be': [(3, 1)], 'great': [(3, 1)], 'if': [(3, 1)], 'can': [(3, 1)], 'travel': [(3, 1)], 'this': [(3, 1)], 'summer': [(3, 1)], 'see': [(3, 1)]})\n"
     ]
    },
    {
     "data": {
      "text/plain": [
       "defaultdict(list,\n",
       "            {'President': [(1, 2)],\n",
       "             'Trump': [(1, 2)],\n",
       "             'was': [(1, 2)],\n",
       "             'on': [(1, 2)],\n",
       "             'his': [(1, 2)],\n",
       "             'way': [(1, 2)],\n",
       "             'to': [(1, 1), (3, 2)],\n",
       "             'new': [(1, 2)],\n",
       "             'New': [(1, 2), (2, 1), (3, 1)],\n",
       "             'York': [(1, 2), (2, 1), (3, 1)],\n",
       "             'in': [(1, 2)],\n",
       "             'City.': [(1, 2)],\n",
       "             'Times': [(2, 2)],\n",
       "             'mentioned': [(2, 2)],\n",
       "             'an': [(2, 2)],\n",
       "             'interesting': [(2, 2)],\n",
       "             'story': [(2, 2)],\n",
       "             'about': [(2, 2)],\n",
       "             'Trump.': [(2, 1), (3, 1)],\n",
       "             'I': [(3, 4)],\n",
       "             'think': [(3, 2)],\n",
       "             'it': [(3, 2)],\n",
       "             'would': [(3, 2)],\n",
       "             'be': [(3, 2)],\n",
       "             'great': [(3, 2)],\n",
       "             'if': [(3, 2)],\n",
       "             'can': [(3, 2)],\n",
       "             'travel': [(3, 2)],\n",
       "             'this': [(3, 2)],\n",
       "             'summer': [(3, 2)],\n",
       "             'see': [(3, 2)]})"
      ]
     },
     "execution_count": 2,
     "metadata": {},
     "output_type": "execute_result"
    }
   ],
   "source": [
    "from math import log, ceil\n",
    "from collections import Counter, defaultdict\n",
    "Tokens_dict = defaultdict(list)\n",
    "tf_score = defaultdict(list)\n",
    "Posting_dict = defaultdict(list)\n",
    "ndocs = len(documents.values())\n",
    "for doc_id, doc in documents.items():\n",
    "    tokens = doc.split()\n",
    "    for tok in tokens:\n",
    "        Tokens_dict[doc_id].append(tok)\n",
    "Tokens_counter = {doc_id: Counter(doc) for doc_id, doc in Tokens_dict.items()}\n",
    "Tokens_counter\n",
    "for doc_id, counter in Tokens_counter.items():\n",
    "    for token, tf in counter.items():\n",
    "        tf_score[token].append((doc_id, tf))\n",
    "tf_score\n",
    "for token in tf_score.keys():\n",
    "    df = len(tf_score[token])\n",
    "    \n",
    "    for doc_id, tf in tf_score[token]:\n",
    "        tfidf_value = ceil((1.0 + log(1.0 + log(tf)))) * ceil((1.0 + log(ndocs / (1 + df))))\n",
    "        Posting_dict[token].append((doc_id, tfidf_value))\n",
    "print(tf_score)\n",
    "Posting_dict\n"
   ]
  },
  {
   "cell_type": "markdown",
   "metadata": {},
   "source": [
    "We will use the provided inverted indexing model to get the inverted index. We do not use any preprocessing method(e.g. remove punctuation, stemming, case folding) and only use simple `split` function in python to get terms for each document.<br>\n",
    "Thus, the term list of doc_id = 1 would be:"
   ]
  },
  {
   "cell_type": "raw",
   "metadata": {},
   "source": [
    "['President', 'Trump', 'was', 'on', 'his', 'way', 'to', 'new', 'New', 'York', 'in', 'New', 'York', 'City.']"
   ]
  },
  {
   "cell_type": "markdown",
   "metadata": {},
   "source": [
    "We will calcuate normalized tf-idf as $w_{t,d}$, the formula would be:"
   ]
  },
  {
   "cell_type": "markdown",
   "metadata": {},
   "source": [
    "$$ \\Large w_{t,d} = \\left\\lceil\\left(1 + \\ln\\left(1 + \\ln\\left(tf_{t,d}\\right)\\right)\\right)\\right\\rceil \\cdot \\left\\lceil\\left( 1 + \\ln\\left(\\frac{|d|}{1 + df_t}\\right) \\right)\\right\\rceil$$"
   ]
  },
  {
   "cell_type": "markdown",
   "metadata": {},
   "source": [
    "You can use InvertedIndex(documents).get_inverted_index() to get inverted index:"
   ]
  },
  {
   "cell_type": "raw",
   "metadata": {},
   "source": [
    "inverted_index = InvertedIndex(documents).get_inverted_index()"
   ]
  },
  {
   "cell_type": "markdown",
   "metadata": {},
   "source": [
    "The inverted_index of term $New$ for $D$ would be:"
   ]
  },
  {
   "cell_type": "raw",
   "metadata": {},
   "source": [
    "'New': [(1, 2), (2, 1), (3, 1)]"
   ]
  },
  {
   "cell_type": "markdown",
   "metadata": {},
   "source": [
    "Let the query_terms ($Q$) be:"
   ]
  },
  {
   "cell_type": "raw",
   "metadata": {},
   "source": [
    "Q = [\"President\",\"New\",\"York\"]"
   ]
  },
  {
   "cell_type": "markdown",
   "metadata": {},
   "source": [
    "### Output Format:\n",
    "Your output should be two elements:<br>\n",
    "`topk_result` a list of the form `(score, doc_id)`, where <br>\n",
    "   * score a **float**: corresponds to the sum of TF-IDF score among all the term based on the intersection of $Q$ and $D$.\n",
    "   * doc_id a **integer**: is document unique id.\n",
    "   * the list should be sorted by score in decrease order, if two documents have same score, smaller document id **precedes** larger one.<br>\n",
    "   \n",
    "`full_evaluation_count` a **integer**: the number of documents fully evaluated in WAND algorithm.<br>\n",
    "**Notice: During WAND processing, if multiple documents in top-k with same scores and we need to remove one of them, we remove the one with largest document ID.**\n",
    "\n",
    "### Running Time:\n",
    "* On CSE machines, your implementation for WAND algorithm $\\textbf{SHOULD NOT}$ take more than 120 seconds in our submit system.\n",
    "* In our testcases, the number of documents(with average around 400 terms) would not be greater than 3000, the number of terms in $Q$ would not be greater than 20, and k would not be greater than 100."
   ]
  },
  {
   "cell_type": "code",
   "execution_count": 13,
   "metadata": {},
   "outputs": [
    {
     "data": {
      "text/plain": [
       "{'a': 1, 'c': 3, 'da': 2}"
      ]
     },
     "execution_count": 13,
     "metadata": {},
     "output_type": "execute_result"
    }
   ],
   "source": [
    "a = {'a':1,'b':2,'c':3}\n",
    "a['d'+'a'] = a.pop('b')\n",
    "a"
   ]
  },
  {
   "cell_type": "code",
   "execution_count": 26,
   "metadata": {},
   "outputs": [
    {
     "data": {
      "text/plain": [
       "(['President', 'on', 'on1', 'on12', 'President1'],\n",
       " defaultdict(list,\n",
       "             {'President': [(1, 2)],\n",
       "              'Trump': [(1, 2)],\n",
       "              'was': [(1, 2)],\n",
       "              'on': [(1, 2)],\n",
       "              'his': [(1, 2)],\n",
       "              'way': [(1, 2)],\n",
       "              'to': [(1, 1), (3, 2)],\n",
       "              'new': [(1, 2)],\n",
       "              'New': [(1, 2), (2, 1), (3, 1)],\n",
       "              'York': [(1, 2), (2, 1), (3, 1)],\n",
       "              'in': [(1, 2)],\n",
       "              'City.': [(1, 2)],\n",
       "              'Times': [(2, 2)],\n",
       "              'mentioned': [(2, 2)],\n",
       "              'an': [(2, 2)],\n",
       "              'interesting': [(2, 2)],\n",
       "              'story': [(2, 2)],\n",
       "              'about': [(2, 2)],\n",
       "              'Trump.': [(2, 1), (3, 1)],\n",
       "              'I': [(3, 4)],\n",
       "              'think': [(3, 2)],\n",
       "              'it': [(3, 2)],\n",
       "              'would': [(3, 2)],\n",
       "              'be': [(3, 2)],\n",
       "              'great': [(3, 2)],\n",
       "              'if': [(3, 2)],\n",
       "              'can': [(3, 2)],\n",
       "              'travel': [(3, 2)],\n",
       "              'this': [(3, 2)],\n",
       "              'summer': [(3, 2)],\n",
       "              'see': [(3, 2)],\n",
       "              'on1': [(1, 2)],\n",
       "              'on12': [(1, 2)],\n",
       "              'President1': [(1, 2)]}))"
      ]
     },
     "execution_count": 26,
     "metadata": {},
     "output_type": "execute_result"
    }
   ],
   "source": [
    "import copy\n",
    "a=['President','on','on','on','President']\n",
    "# key_list = []\n",
    "# for i in range(len(a)):\n",
    "#     print(key_list)\n",
    "#     if  a[i] not in key_list:\n",
    "#         key_list.append(a[i])\n",
    "#     else:\n",
    "#         t=1\n",
    "#         b=a[i]\n",
    "#         while a[i] in key_list:\n",
    "            \n",
    "#             a[i] = a[i] + str(t)\n",
    "#             t += 1\n",
    "#         key_list.append(a[i])\n",
    "#         inverted_index[a[i]] = inverted_index[b]\n",
    "#         print(b)\n",
    "# a,inverted_index\n",
    "def preprocessing(query_items, inverted_index):\n",
    "    key_list = []\n",
    "    for i in range(len(query_items)):\n",
    "        if query_items[i] not in key_list:\n",
    "            key_list.append(query_items[i])\n",
    "        else:\n",
    "            t = 1\n",
    "            b = query_items[i]\n",
    "            while query_items[i] in key_list:\n",
    "                query_items[i] = query_items[i] + str(t)\n",
    "                t += 1\n",
    "            key_list.append(query_items[i])\n",
    "            inverted_index[query_items[i]] = inverted_index[b]\n",
    "    return query_items, inverted_index\n",
    "a,b = preprocessing(a,inverted_index)\n",
    "a,b"
   ]
  },
  {
   "cell_type": "markdown",
   "metadata": {},
   "source": [
    "### How we test implementation of part one"
   ]
  },
  {
   "cell_type": "code",
   "execution_count": 3,
   "metadata": {},
   "outputs": [],
   "source": [
    "import pickle\n",
    "from Inv_Index import InvertedIndex\n",
    "from project_part1 import WAND_Algo"
   ]
  },
  {
   "cell_type": "code",
   "execution_count": 23,
   "metadata": {},
   "outputs": [
    {
     "data": {
      "text/plain": [
       "{1: 'President Trump was on his way to new New York in New York City.',\n",
       " 2: 'New York Times mentioned an interesting story about Trump.',\n",
       " 3: 'I think it would be great if I can travel to New York this summer to see Trump.'}"
      ]
     },
     "execution_count": 23,
     "metadata": {},
     "output_type": "execute_result"
    }
   ],
   "source": [
    "fname = './Data/sample_documents.pickle'\n",
    "documents = pickle.load(open(fname,\"rb\"))\n",
    "\n",
    "documents"
   ]
  },
  {
   "cell_type": "code",
   "execution_count": 24,
   "metadata": {},
   "outputs": [],
   "source": [
    "## 1. Construct and get inverted_index\n",
    "inverted_index = InvertedIndex(documents).get_inverted_index()"
   ]
  },
  {
   "cell_type": "code",
   "execution_count": 25,
   "metadata": {
    "scrolled": true
   },
   "outputs": [
    {
     "name": "stdout",
     "output_type": "stream",
     "text": [
      "defaultdict(<class 'list'>, {'President': [(1, 2)], 'Trump': [(1, 2)], 'was': [(1, 2)], 'on': [(1, 2)], 'his': [(1, 2)], 'way': [(1, 2)], 'to': [(1, 1), (3, 2)], 'new': [(1, 2)], 'New': [(1, 2), (2, 1), (3, 1)], 'York': [(1, 2), (2, 1), (3, 1)], 'in': [(1, 2)], 'City.': [(1, 2)], 'Times': [(2, 2)], 'mentioned': [(2, 2)], 'an': [(2, 2)], 'interesting': [(2, 2)], 'story': [(2, 2)], 'about': [(2, 2)], 'Trump.': [(2, 1), (3, 1)], 'I': [(3, 4)], 'think': [(3, 2)], 'it': [(3, 2)], 'would': [(3, 2)], 'be': [(3, 2)], 'great': [(3, 2)], 'if': [(3, 2)], 'can': [(3, 2)], 'travel': [(3, 2)], 'this': [(3, 2)], 'summer': [(3, 2)], 'see': [(3, 2)]})\n"
     ]
    }
   ],
   "source": [
    "print(inverted_index)"
   ]
  },
  {
   "cell_type": "code",
   "execution_count": 23,
   "metadata": {},
   "outputs": [
    {
     "ename": "ValueError",
     "evalue": "not enough values to unpack (expected 2, got 0)",
     "output_type": "error",
     "traceback": [
      "\u001b[1;31m---------------------------------------------------------------------------\u001b[0m",
      "\u001b[1;31mValueError\u001b[0m                                Traceback (most recent call last)",
      "\u001b[1;32m<ipython-input-23-ff62a656058a>\u001b[0m in \u001b[0;36m<module>\u001b[1;34m\u001b[0m\n\u001b[1;32m----> 1\u001b[1;33m \u001b[1;33m(\u001b[0m\u001b[0ma\u001b[0m\u001b[1;33m,\u001b[0m\u001b[0mb\u001b[0m\u001b[1;33m)\u001b[0m \u001b[1;33m=\u001b[0m \u001b[0mtuple\u001b[0m\u001b[1;33m(\u001b[0m\u001b[1;33m)\u001b[0m\u001b[1;33m\u001b[0m\u001b[1;33m\u001b[0m\u001b[0m\n\u001b[0m\u001b[0;32m      2\u001b[0m \u001b[1;33m(\u001b[0m\u001b[0ma\u001b[0m\u001b[1;33m,\u001b[0m\u001b[0mb\u001b[0m\u001b[1;33m)\u001b[0m\u001b[1;33m\u001b[0m\u001b[1;33m\u001b[0m\u001b[0m\n",
      "\u001b[1;31mValueError\u001b[0m: not enough values to unpack (expected 2, got 0)"
     ]
    }
   ],
   "source": [
    "a=[(1,2),]\n",
    "(a,b)"
   ]
  },
  {
   "cell_type": "code",
   "execution_count": 56,
   "metadata": {},
   "outputs": [],
   "source": [
    "def sortByDID(posting):\n",
    "    a = []\n",
    "    re1 = []\n",
    "    re = dict()\n",
    "    for i,j in posting.items():\n",
    "        if j[0] !=0:\n",
    "            a.append((j[0],i))\n",
    "    for i in sorted(a):\n",
    "        re[i[1]] = posting[i[1]]\n",
    "        re1.append(i[1])\n",
    "    return re,re1\n",
    "\n",
    "#sortByDID(posting)     "
   ]
  },
  {
   "cell_type": "code",
   "execution_count": 92,
   "metadata": {},
   "outputs": [],
   "source": [
    "def wand(query_terms,top_k,inverted_index):\n",
    "    evaluation_count = 0\n",
    "    q_len = len(query_terms)\n",
    "    uper_bound = dict()\n",
    "    postings = dict()\n",
    "    #d_num = 0\n",
    "    posting_index = dict()\n",
    "    for i in query_terms:\n",
    "        posting_index[i] = 0\n",
    "        uper_bound[i] = max([j[1] for j in inverted_index[i]])\n",
    "        postings[i] = inverted_index[i][posting_index[i]]\n",
    "        (ct,wt) = inverted_index[i][posting_index[i]]\n",
    "    threshold = 0\n",
    "    answer = []\n",
    "    while (ct,wt) != (0,0):\n",
    "        #evaluation_count += 1\n",
    "        sorted_p, sorted_t = sortByDID(postings)\n",
    "        q_len = len(sorted_t)\n",
    "        score_limit = 0\n",
    "        pivot = 0\n",
    "        while pivot < q_len-1:\n",
    "            tmp_s_lim = score_limit + uper_bound[sorted_t[pivot]]\n",
    "            if tmp_s_lim > threshold:\n",
    "                break\n",
    "            score_limit = tmp_s_lim\n",
    "            pivot = pivot + 1\n",
    "        #print(pivot,score_limit,sorted_p,sorted_t)\n",
    "        \n",
    "        if sorted_p[sorted_t[0]][0] == sorted_p[sorted_t[pivot]][0]:\n",
    "            s = 0\n",
    "            t = 0\n",
    "            d_num += 1\n",
    "            while t < q_len and sorted_p[sorted_t[t]][0] == sorted_p[sorted_t[pivot]][0]:\n",
    "                s = s + sorted_p[sorted_t[t]][1]\n",
    "                posting_index[sorted_t[t]] += 1\n",
    "                #d_num += 1\n",
    "                if posting_index[sorted_t[t]] <= len(inverted_index[sorted_t[t]]) -1:\n",
    "                    #print(d_num,sorted_t[t],inverted_index[sorted_t[t]][1])\n",
    "                    postings[sorted_t[t]] = inverted_index[sorted_t[t]][posting_index[sorted_t[t]]]\n",
    "                    #print(posting)\n",
    "                    (ct,wt) = inverted_index[sorted_t[t]][posting_index[sorted_t[t]]]\n",
    "                else:\n",
    "                    postings[sorted_t[t]] = (0,0)\n",
    "                    (ct,wt) = (0,0)\n",
    "                t = t + 1\n",
    "            if s > threshold:\n",
    "                \n",
    "#                 if \n",
    "                answer.append((s,sorted_p[sorted_t[pivot]][0]))\n",
    "                #print(answer)\n",
    "#                 if len(answer) > top_k:\n",
    "#                     answer = sorted(answer)\n",
    "#                     if answer[0][0] == answer[1][0]:\n",
    "#                         answer.remove(answer[1])\n",
    "#                     else:\n",
    "#                         answer.remove(answer[0])\n",
    "                if len(answer) > top_k:\n",
    "                    evaluation_count += 1\n",
    "                    answer = sorted(answer)\n",
    "                    d_list = [i[0] for i in answer]\n",
    "                    min_num = 0\n",
    "                    for i in d_list:\n",
    "                        if i == min(d_list):\n",
    "                            min_num += 1\n",
    "                    if min_num > 1 and answer[min_num-2][0] == answer[min_num-1][0]:\n",
    "                        answer.remove(answer[min_num-1])\n",
    "                    else:\n",
    "                        answer.remove(answer[0])\n",
    "                    threshold = inverted_answer[0][0]\n",
    "                    \n",
    "                        \n",
    "                    #answer = sorted(answer)[-top_k:]\n",
    "#             print(answer)\n",
    "#                     inverted_answer = [(i[1],i[0]) for i in answer][-top_k:]\n",
    "#                     threshold = inverted_answer[0][0]\n",
    "#                     answer = [(i[1],i[0]) for i in inverted_answer]\n",
    "        else:\n",
    "            for i in range(pivot):\n",
    "                judge = 0\n",
    "                for j in inverted_index[sorted_t[i]]:\n",
    "                    if j[0] >= sorted_p[sorted_t[pivot]][0]:\n",
    "                        postings[sorted_t[i]] = j\n",
    "                        (ct,wt) = j\n",
    "                        judege = 1\n",
    "                        break\n",
    "                if judge == 0:\n",
    "                    postings[sorted_t[i]] = (0,0)\n",
    "                    (ct,wt) = (0,0)\n",
    "    answer = sort_answer(answer)\n",
    "    return answer, evaluation_count"
   ]
  },
  {
   "cell_type": "code",
   "execution_count": 103,
   "metadata": {},
   "outputs": [
    {
     "name": "stdout",
     "output_type": "stream",
     "text": [
      "[(8, 1), (8, 3)]\n",
      "[(8, 1), (8, 3), (4, 2), (4, 3)]\n"
     ]
    },
    {
     "data": {
      "text/plain": [
       "[(8, 1), (8, 3), (4, 2), (4, 3)]"
      ]
     },
     "execution_count": 103,
     "metadata": {},
     "output_type": "execute_result"
    }
   ],
   "source": [
    "def sort_answer(answer)\n",
    "    d = dict()\n",
    "    for i in range(len(answer)):\n",
    "        d[answer[i][0]] = []\n",
    "    for i in range(len(answer)):\n",
    "        d[answer[i][0]].append(i)\n",
    "    d_key = sorted(d)\n",
    "    d_key.reverse()\n",
    "    new_d = dict()\n",
    "    for i in d_key:\n",
    "        new_d[i] = d[i]\n",
    "    e = []\n",
    "    for i,j in new_d.items():\n",
    "        e.extend(answer[j[0]:j[-1]+1])\n",
    "    return e\n",
    "    \n",
    "# for i in a:\n",
    "e "
   ]
  },
  {
   "cell_type": "code",
   "execution_count": 93,
   "metadata": {},
   "outputs": [
    {
     "data": {
      "text/plain": [
       "[(6, 1), (2, 2)]"
      ]
     },
     "execution_count": 93,
     "metadata": {},
     "output_type": "execute_result"
    }
   ],
   "source": [
    "query_terms = [\"President\",\"New\",\"York\"]\n",
    "top_k = 2\n",
    "uper_bound,ec = wand(query_terms,top_k,inverted_index)\n",
    "uper_bound"
   ]
  },
  {
   "cell_type": "code",
   "execution_count": 91,
   "metadata": {},
   "outputs": [
    {
     "ename": "TypeError",
     "evalue": "cannot unpack non-iterable NoneType object",
     "output_type": "error",
     "traceback": [
      "\u001b[1;31m---------------------------------------------------------------------------\u001b[0m",
      "\u001b[1;31mTypeError\u001b[0m                                 Traceback (most recent call last)",
      "\u001b[1;32m<ipython-input-91-b7a31b7c556d>\u001b[0m in \u001b[0;36m<module>\u001b[1;34m\u001b[0m\n\u001b[0;32m      4\u001b[0m \u001b[1;33m\u001b[0m\u001b[0m\n\u001b[0;32m      5\u001b[0m \u001b[1;31m## 2. WAND algorithm...\u001b[0m\u001b[1;33m\u001b[0m\u001b[1;33m\u001b[0m\u001b[1;33m\u001b[0m\u001b[0m\n\u001b[1;32m----> 6\u001b[1;33m \u001b[0mtopk_result\u001b[0m\u001b[1;33m,\u001b[0m \u001b[0mfull_evaluation_count\u001b[0m \u001b[1;33m=\u001b[0m \u001b[0mWAND_Algo\u001b[0m\u001b[1;33m(\u001b[0m\u001b[0mquery_terms\u001b[0m\u001b[1;33m,\u001b[0m \u001b[0mtop_k\u001b[0m\u001b[1;33m,\u001b[0m \u001b[0minverted_index\u001b[0m\u001b[1;33m)\u001b[0m\u001b[1;33m\u001b[0m\u001b[1;33m\u001b[0m\u001b[0m\n\u001b[0m\u001b[0;32m      7\u001b[0m \u001b[1;33m\u001b[0m\u001b[0m\n\u001b[0;32m      8\u001b[0m \u001b[0mprint\u001b[0m\u001b[1;33m(\u001b[0m\u001b[1;34m'Top-k result = '\u001b[0m\u001b[1;33m,\u001b[0m \u001b[0mtopk_result\u001b[0m\u001b[1;33m)\u001b[0m\u001b[1;33m\u001b[0m\u001b[1;33m\u001b[0m\u001b[0m\n",
      "\u001b[1;31mTypeError\u001b[0m: cannot unpack non-iterable NoneType object"
     ]
    }
   ],
   "source": [
    "## Test cases\n",
    "query_terms = [\"President\",\"New\",\"York\"]\n",
    "top_k = 2\n",
    "\n",
    "## 2. WAND algorithm...\n",
    "topk_result, full_evaluation_count = WAND_Algo(query_terms, top_k, inverted_index)\n",
    "\n",
    "print('Top-k result = ', topk_result)\n",
    "print('Evaluation Count = ', full_evaluation_count)"
   ]
  },
  {
   "cell_type": "markdown",
   "metadata": {},
   "source": [
    "# Part Two (20 Points)"
   ]
  },
  {
   "cell_type": "markdown",
   "metadata": {},
   "source": [
    "### Introduction\n",
    "\n",
    "Threshold $\\alpha$ is a very important parameter in WAND algorithm. If we can set a suitable value as initial threshold, we can reduce the number of fully evaluated documents. However, if we set a very high value, we may get wrong top-k result."
   ]
  },
  {
   "cell_type": "markdown",
   "metadata": {},
   "source": [
    "Notice: we only consider the WAND algorithm in lecture slides(i.e., Algorithm 1 described in the ADCS 2013 paper). <br>\n",
    "**With an important modification: Use the following 6 lines of code to replace Lines 28 to 34 of the ADCS2013 algorithm.**"
   ]
  },
  {
   "cell_type": "markdown",
   "metadata": {},
   "source": [
    "<img src = 'img/modified_part.png' align = left width = 300>"
   ]
  },
  {
   "cell_type": "markdown",
   "metadata": {},
   "source": [
    "***This modification is only used in part two.***"
   ]
  },
  {
   "cell_type": "markdown",
   "metadata": {},
   "source": [
    "### Assumptions"
   ]
  },
  {
   "cell_type": "markdown",
   "metadata": {},
   "source": [
    "1. Assume that there is no two documents who achieve the same score for the query $Q$.\n",
    "2. Assume that we already had top-k answer for $Q$."
   ]
  },
  {
   "cell_type": "markdown",
   "metadata": {},
   "source": [
    "### Task"
   ]
  },
  {
   "cell_type": "markdown",
   "metadata": {},
   "source": [
    "In this part, you need to complete a **report** `project_part2.pdf` answering the followoing questions:\n",
    "\n",
    "1. Find out the the upper bound ($\\alpha_{max}$) of threshold $\\alpha$ **such that** \n",
    "    1. $\\forall \\alpha < \\alpha_{max}$,  the algorithm (NB: the modified version of ADCS 2013 algorithm) will *always* return the correct top-k answers for $Q$; \n",
    "    2. $\\forall \\alpha \\geq \\alpha_{max}$, the algorithm *may* return the wrong top-k answers for $Q$ in some cases.\n",
    "2. Prove that your answer is correct in a rigorous way. \n",
    "\n",
    "Note: if we set $\\alpha = \\min \\{\\, score(D; Q) \\mid D \\in \\text{top-k}(Q) \\,\\}$, the algorithm will always return the correct top-k answers. However, we are sessking a higher value for $\\alpha$ here."
   ]
  },
  {
   "cell_type": "markdown",
   "metadata": {},
   "source": [
    "## Project Submission and Feedback\n",
    "\n",
    "For project submission, you are required to submit the following files via submission system: http://kg.cse.unsw.edu.au/submit/:\n",
    "\n",
    "1. A python file `project_part1.py`.\n",
    "2. A report `project_part2.pdf`.\n",
    "\n",
    "**Note:** Every student will be entitled to **15 Feedback Attempts** (use them wisely), we will use the last submission for final evaluation."
   ]
  },
  {
   "cell_type": "code",
   "execution_count": null,
   "metadata": {},
   "outputs": [],
   "source": []
  }
 ],
 "metadata": {
  "kernelspec": {
   "display_name": "Python 3",
   "language": "python",
   "name": "python3"
  },
  "language_info": {
   "codemirror_mode": {
    "name": "ipython",
    "version": 3
   },
   "file_extension": ".py",
   "mimetype": "text/x-python",
   "name": "python",
   "nbconvert_exporter": "python",
   "pygments_lexer": "ipython3",
   "version": "3.7.6"
  },
  "nteract": {
   "version": "0.26.0"
  }
 },
 "nbformat": 4,
 "nbformat_minor": 2
}
